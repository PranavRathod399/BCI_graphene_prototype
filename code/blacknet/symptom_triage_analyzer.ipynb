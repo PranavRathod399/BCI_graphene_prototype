{
  "nbformat": 4,
  "nbformat_minor": 0,
  "metadata": {
    "colab": {
      "provenance": [],
      "authorship_tag": "ABX9TyOSNkyOcWMIEVjuI9lu6oRE",
      "include_colab_link": true
    },
    "kernelspec": {
      "name": "python3",
      "display_name": "Python 3"
    },
    "language_info": {
      "name": "python"
    }
  },
  "cells": [
    {
      "cell_type": "markdown",
      "metadata": {
        "id": "view-in-github",
        "colab_type": "text"
      },
      "source": [
        "<a href=\"https://colab.research.google.com/github/PranavRathod399/Blacklace/blob/main/code/blacknet/symptom_triage_analyzer.ipynb\" target=\"_parent\"><img src=\"https://colab.research.google.com/assets/colab-badge.svg\" alt=\"Open In Colab\"/></a>"
      ]
    },
    {
      "source": [
        "import re\n",
        "\n",
        "# Base risk scores\n",
        "symptom_score = {\n",
        "    \"fever\": 1,\n",
        "    \"cough\": 1,\n",
        "    \"sore throat\": 1,\n",
        "    \"shortness of breath\": 2,\n",
        "    \"blood\": 3,\n",
        "    \"chest pain\": 3,\n",
        "    \"headache\": 1,\n",
        "    \"nausea\": 1,\n",
        "    \"vomiting\": 2,\n",
        "    \"diarrhea\": 2,\n",
        "}\n",
        "\n",
        "# Extract symptoms and duration\n",
        "def extract_symptoms_and_duration(text):\n",
        "    text = text.lower()\n",
        "    symptoms_found = [symptom for symptom in symptom_score if symptom in text]\n",
        "\n",
        "    # Try various expressions for duration\n",
        "    patterns = [\n",
        "        r\"for (\\d+ (day|days|week|weeks))\",\n",
        "        r\"for (a few|few|several) (days|weeks)\",\n",
        "        r\"since (yesterday|last night|monday|tuesday|wednesday|thursday|friday|saturday|sunday)\",\n",
        "        r\"since (a few|few|several) (days|weeks)\",\n",
        "        r\"(over|during) the past (\\d+ (day|days|week|weeks))\"\n",
        "    ]\n",
        "\n",
        "    duration = None\n",
        "    for pattern in patterns:\n",
        "        match = re.search(pattern, text)\n",
        "        if match:\n",
        "            duration = match.group(0)\n",
        "            break\n",
        "\n",
        "    return symptoms_found, duration\n",
        "\n",
        "# Triage logic\n",
        "def assess_risk(symptoms, duration=None):\n",
        "    total_score = sum(symptom_score.get(symptom, 0) for symptom in symptoms)\n",
        "\n",
        "    if \"cough\" in symptoms and \"blood\" in symptoms:\n",
        "        return \"Emergency care advised\"\n",
        "    if \"fever\" in symptoms and \"shortness of breath\" in symptoms:\n",
        "        return \"Consult a doctor\"\n",
        "\n",
        "    if duration:\n",
        "        if \"week\" in duration.lower() or \"7 days\" in duration.lower():\n",
        "            total_score += 1\n",
        "\n",
        "        if total_score >= 5:\n",
        "            return \"Consult a doctor\"\n",
        "        elif total_score >= 2:\n",
        "            return \"Monitor at home\"\n",
        "        elif total_score > 0:\n",
        "            return \"Mild: Home care\"\n",
        "        else:\n",
        "            return \"Insufficient data for triage\"\n",
        "\n",
        "# Full pipeline\n",
        "def analyze_input(text):\n",
        "    symptoms, duration = extract_symptoms_and_duration(text)\n",
        "    triage = assess_risk(symptoms, duration)\n",
        "    return {\n",
        "        \"symptoms\": symptoms,\n",
        "        \"duration\": duration,\n",
        "        \"triage\": triage\n",
        "    }"
      ],
      "cell_type": "code",
      "metadata": {
        "id": "BK9FGrfoNfOP"
      },
      "execution_count": null,
      "outputs": []
    },
    {
      "source": [
        "# Optional interactive test -version 2\n",
        "if __name__ == \"__main__\":\n",
        "    user_input = input(\"Describe your symptoms: \")\n",
        "    result = analyze_input(user_input)\n",
        "\n",
        "    print(\"\\n--- Symptom Analysis ---\")\n",
        "    print(\"Symptoms Detected :\", \", \".join(result[\"symptoms\"]) if result[\"symptoms\"] else \"None\")\n",
        "    print(\"Duration           :\", result[\"duration\"] or \"Not specified\")\n",
        "    print(\"Triage Assessment  :\", result[\"triage\"])"
      ],
      "cell_type": "code",
      "metadata": {
        "colab": {
          "base_uri": "https://localhost:8080/"
        },
        "id": "e8HJvL_pKcN2",
        "outputId": "192f802c-41ab-4240-c892-2d1f4384da27"
      },
      "execution_count": 15,
      "outputs": [
        {
          "output_type": "stream",
          "name": "stdout",
          "text": [
            "Describe your symptoms: I got a really bad headache fever and blood cough since Monday \n",
            "\n",
            "--- Symptom Analysis ---\n",
            "Symptoms Detected : fever, cough, blood, headache\n",
            "Duration           : since monday\n",
            "Triage Assessment  : Emergency care advised\n"
          ]
        }
      ]
    }
  ]
}