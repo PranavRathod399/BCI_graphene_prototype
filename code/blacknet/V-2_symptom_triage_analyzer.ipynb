{
  "nbformat": 4,
  "nbformat_minor": 0,
  "metadata": {
    "colab": {
      "provenance": [],
      "authorship_tag": "ABX9TyNhP11Bf9yq3YUkJxkxvmDd",
      "include_colab_link": true
    },
    "kernelspec": {
      "name": "python3",
      "display_name": "Python 3"
    },
    "language_info": {
      "name": "python"
    }
  },
  "cells": [
    {
      "cell_type": "markdown",
      "metadata": {
        "id": "view-in-github",
        "colab_type": "text"
      },
      "source": [
        "<a href=\"https://colab.research.google.com/github/PranavRathod399/Blacklace/blob/main/code/blacknet/V-2_symptom_triage_analyzer.ipynb\" target=\"_parent\"><img src=\"https://colab.research.google.com/assets/colab-badge.svg\" alt=\"Open In Colab\"/></a>"
      ]
    },
    {
      "source": [
        "import re\n",
        "\n",
        "# -----------------------------------\n",
        "# 1. Base risk scores for symptoms\n",
        "# -----------------------------------\n",
        "symptom_score = {\n",
        "    \"fever\": 1,\n",
        "    \"cough\": 1,\n",
        "    \"sore throat\": 1,\n",
        "    \"shortness of breath\": 2,\n",
        "    \"blood\": 3,\n",
        "    \"chest pain\": 3,\n",
        "    \"headache\": 1,\n",
        "    \"nausea\": 1,\n",
        "    \"vomiting\": 2,\n",
        "    \"diarrhea\": 2,\n",
        "}"
      ],
      "cell_type": "code",
      "metadata": {
        "id": "SXYN6TIaRzo1"
      },
      "execution_count": 33,
      "outputs": []
    },
    {
      "source": [
        "# -----------------------------------\n",
        "# 2. Home care & escalation advice\n",
        "# -----------------------------------\n",
        "symptom_care = {\n",
        "    \"fever\": {\n",
        "        \"home_care\": \"Stay hydrated, get rest, and use a cool damp cloth on your forehead.\",\n",
        "        \"escalation\": \"If fever lasts more than 3 days or is very high, consult a doctor.\"\n",
        "    },\n",
        "    \"cough\": {\n",
        "        \"home_care\": \"Drink warm fluids and rest your voice.\",\n",
        "        \"escalation\": \"If cough includes blood or lasts more than a week, seek medical attention.\"\n",
        "    },\n",
        "    \"sore throat\": {\n",
        "        \"home_care\": \"Gargle with warm salt water and stay hydrated.\",\n",
        "        \"escalation\": \"If severe or lasts more than 3 days, consider seeing a doctor.\"\n",
        "    },\n",
        "    \"nausea\": {\n",
        "        \"home_care\": \"Eat light meals and drink clear fluids slowly.\",\n",
        "        \"escalation\": \"If persistent or accompanied by vomiting, consult a doctor.\"\n",
        "    },\n",
        "    \"chest pain\": {\n",
        "        \"home_care\": \"If mild, rest and monitor your breathing.\",\n",
        "        \"escalation\": \"Seek emergency care if severe, sharp, or spreads.\"\n",
        "    }\n",
        "}"
      ],
      "cell_type": "code",
      "metadata": {
        "id": "muRWLtU6SGi0"
      },
      "execution_count": 35,
      "outputs": []
    },
    {
      "source": [
        "# -----------------------------------\n",
        "# 3. Symptom & duration extractor\n",
        "# -----------------------------------\n",
        "def extract_symptoms_and_duration(text):\n",
        "    text = text.lower()\n",
        "    symptoms_found = [symptom for symptom in symptom_score if symptom in text]\n",
        "\n",
        "    patterns = [\n",
        "        r\"for (\\d+ (day|days|week|weeks))\",\n",
        "        r\"for (a few|few|several) (days|weeks)\",\n",
        "        r\"since (yesterday|last night|monday|tuesday|wednesday|thursday|friday|saturday|sunday)\",\n",
        "        r\"since (a few|few|several) (days|weeks)\",\n",
        "        r\"(over|during) the past (\\d+ (day|days|week|weeks))\"\n",
        "    ]\n",
        "\n",
        "    duration = None\n",
        "    for pattern in patterns:\n",
        "        match = re.search(pattern, text)\n",
        "        if match:\n",
        "            duration = match.group(0)\n",
        "            break\n",
        "\n",
        "    return symptoms_found, duration"
      ],
      "cell_type": "code",
      "metadata": {
        "id": "DPmY3Cx2SkTi"
      },
      "execution_count": 36,
      "outputs": []
    },
    {
      "source": [
        "# -----------------------------------\n",
        "# 4. Triage logic rules\n",
        "# -----------------------------------\n",
        "def assess_risk(symptoms, duration=None):\n",
        "    total_score = sum(symptom_score.get(symptom, 0) for symptom in symptoms)\n",
        "\n",
        "    if \"cough\" in symptoms and \"blood\" in symptoms:\n",
        "        return \"Emergency care advised\"\n",
        "    if \"fever\" in symptoms and \"shortness of breath\" in symptoms:\n",
        "        return \"Consult a doctor\"\n",
        "\n",
        "    if duration:\n",
        "        if \"week\" in duration.lower() or \"7 days\" in duration.lower():\n",
        "            total_score += 1\n",
        "\n",
        "        if total_score >= 5:\n",
        "            return \"Consult a doctor\"\n",
        "        elif total_score >= 2:\n",
        "            return \"Monitor at home\"\n",
        "        elif total_score > 0:\n",
        "            return \"Mild: Home care\"\n",
        "        else:\n",
        "            return \"Insufficient data for triage\""
      ],
      "cell_type": "code",
      "metadata": {
        "id": "qRnMfVf3Sx_6"
      },
      "execution_count": 37,
      "outputs": []
    },
    {
      "source": [
        "# -----------------------------------\n",
        "# 5. Care advice fetcher\n",
        "# -----------------------------------\n",
        "def get_care_advice(symptoms):\n",
        "    advice = {}\n",
        "    for symptom in symptoms:\n",
        "        if symptom in symptom_care:\n",
        "            advice[symptom] = symptom_care[symptom]\n",
        "    return advice"
      ],
      "cell_type": "code",
      "metadata": {
        "id": "FrDOOq4WTBQI"
      },
      "execution_count": 53,
      "outputs": []
    },
    {
      "source": [
        "# -----------------------------------\n",
        "# 6. Full pipeline for analysis\n",
        "# -----------------------------------\n",
        "def analyze_input(text):\n",
        "    symptoms, duration = extract_symptoms_and_duration(text)\n",
        "    triage = assess_risk(symptoms, duration)\n",
        "\n",
        "    if triage in [\"Mild: Home care\", \"Monitor at home\"]:\n",
        "        care_advice = get_care_advice(symptoms)\n",
        "    elif triage in [\"Emergency care advised\", \"Consult a doctor\"]:\n",
        "        care_advice = {\n",
        "            \"emergency_action\": \"Call 911 or your local emergency number immediately.\"\n",
        "        }\n",
        "    else:\n",
        "        care_advice = {}\n",
        "\n",
        "    return {\n",
        "        \"symptoms\": symptoms,\n",
        "        \"duration\": duration,\n",
        "        \"triage\": triage,\n",
        "        \"care_advice\": care_advice\n",
        "    }"
      ],
      "cell_type": "code",
      "metadata": {
        "id": "0ABPlsECWx1U"
      },
      "execution_count": 55,
      "outputs": []
    },
    {
      "source": [
        "# -----------------------------------\n",
        "# 7. Optional CLI test\n",
        "# -----------------------------------\n",
        "if __name__ == \"__main__\":\n",
        "    user_input = input(\"Describe your symptoms: \")\n",
        "    result = analyze_input(user_input)\n",
        "\n",
        "    print(\"\\n--- Symptom Analysis ---\")\n",
        "    print(\"Symptoms Detected :\", \", \".join(result[\"symptoms\"]) if result[\"symptoms\"] else \"None\")\n",
        "    print(\"Duration           :\", result[\"duration\"] or \"Not specified\")\n",
        "    print(\"Triage Assessment  :\", result[\"triage\"])\n",
        "\n",
        "    if result[\"care_advice\"]:\n",
        "        print(\"\\n--- Home Care Advice ---\")\n",
        "        # Check if the 'care_advice' is a dictionary with multiple symptoms\n",
        "        if isinstance(result[\"care_advice\"], dict) and len(result[\"care_advice\"]) > 1:\n",
        "            for symptom, advice in result[\"care_advice\"].items():\n",
        "                print(f\"\\n{symptom.title()}:\")\n",
        "                print(f\"  Home Care   : {advice['home_care']}\")\n",
        "                print(f\"  Escalation  : {advice['escalation']}\")\n",
        "        # If it's for emergency cases, print the emergency action\n",
        "        elif \"emergency_action\" in result[\"care_advice\"]:\n",
        "            print(f\"\\n{result['care_advice']['emergency_action']}\") # Print the emergency action directly"
      ],
      "cell_type": "code",
      "metadata": {
        "colab": {
          "base_uri": "https://localhost:8080/"
        },
        "id": "aDbog5DJXiv5",
        "outputId": "842000eb-0d27-41d8-dfcc-d33b9987ca5d"
      },
      "execution_count": 59,
      "outputs": [
        {
          "output_type": "stream",
          "name": "stdout",
          "text": [
            "Describe your symptoms: I've got fever headache since 2 days today I got blood in my cough\n",
            "\n",
            "--- Symptom Analysis ---\n",
            "Symptoms Detected : fever, cough, blood, headache\n",
            "Duration           : Not specified\n",
            "Triage Assessment  : Emergency care advised\n",
            "\n",
            "--- Home Care Advice ---\n",
            "\n",
            "Call 911 or your local emergency number immediately.\n"
          ]
        }
      ]
    }
  ]
}