{
  "nbformat": 4,
  "nbformat_minor": 0,
  "metadata": {
    "colab": {
      "provenance": [],
      "authorship_tag": "ABX9TyOtIdBKN9Rw7rlVm+RLC2+O",
      "include_colab_link": true
    },
    "kernelspec": {
      "name": "python3",
      "display_name": "Python 3"
    },
    "language_info": {
      "name": "python"
    }
  },
  "cells": [
    {
      "cell_type": "markdown",
      "metadata": {
        "id": "view-in-github",
        "colab_type": "text"
      },
      "source": [
        "<a href=\"https://colab.research.google.com/github/PranavRathod399/Blacklace/blob/main/code/blacknet/symptom_parser_v1.ipynb\" target=\"_parent\"><img src=\"https://colab.research.google.com/assets/colab-badge.svg\" alt=\"Open In Colab\"/></a>"
      ]
    },
    {
      "source": [
        "# Symptom and duration pattern definitions\n",
        "import re\n",
        "\n",
        "SYMPTOM_KEYWORDS = [\n",
        "    \"fever\", \"cough\", \"headache\", \"dizziness\", \"sore throat\", \"fatigue\",\n",
        "    \"vomiting\", \"diarrhea\", \"chest pain\", \"shortness of breath\"\n",
        "]\n",
        "\n",
        "DURATION_PATTERNS = [\n",
        "    r\"for (\\d+ days?)\",\n",
        "    r\"since yesterday\",\n",
        "    r\"since last night\",\n",
        "    r\"for a few days\",\n",
        "    r\"for a week\",\n",
        "]"
      ],
      "cell_type": "code",
      "metadata": {
        "id": "nXajfD4MoMRv"
      },
      "execution_count": null,
      "outputs": []
    },
    {
      "source": [
        "def extract_symptoms(user_input: str) -> dict:\n",
        "    input_lower = user_input.lower()\n",
        "    found_symptoms = []\n",
        "\n",
        "    for symptom in SYMPTOM_KEYWORDS:\n",
        "        if symptom in input_lower:\n",
        "            found_symptoms.append(symptom)\n",
        "\n",
        "    found_durations = []\n",
        "    for pattern in DURATION_PATTERNS:\n",
        "        match = re.search(pattern, input_lower)\n",
        "        if match:\n",
        "            found_durations.append(match.group())\n",
        "\n",
        "    return {\n",
        "        \"symptoms\": found_symptoms,\n",
        "        \"duration\": found_durations or None\n",
        "    }"
      ],
      "cell_type": "code",
      "metadata": {
        "id": "1suU0157oVaG"
      },
      "execution_count": null,
      "outputs": []
    },
    {
      "cell_type": "code",
      "source": [
        "# Try different input here\n",
        "user_input = \"I've had a fever and sore throat for 3 days since last night.\"\n",
        "result = extract_symptoms(user_input)\n",
        "print(result)"
      ],
      "metadata": {
        "colab": {
          "base_uri": "https://localhost:8080/"
        },
        "id": "aznZpS5yoZzQ",
        "outputId": "44d54f22-5639-4aa9-afac-dd3855fbd22f"
      },
      "execution_count": null,
      "outputs": [
        {
          "output_type": "stream",
          "name": "stdout",
          "text": [
            "{'symptoms': ['fever', 'sore throat'], 'duration': ['for 3 days', 'since last night']}\n"
          ]
        }
      ]
    }
  ]
}